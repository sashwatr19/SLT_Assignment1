{
 "cells": [
  {
   "cell_type": "code",
   "execution_count": 2,
   "metadata": {},
   "outputs": [],
   "source": [
    "import pandas as pd\n",
    "import numpy as np\n",
    "\n",
    "train_data_small = pd.read_csv(r\"C:\\Users\\sashw\\OneDrive\\Desktop\\TUe\\SLT\\SLT_Assignment1\\MNIST_train_small.csv\")\n",
    "test_data_small = pd.read_csv(r\"C:\\Users\\sashw\\OneDrive\\Desktop\\TUe\\SLT\\SLT_Assignment1\\MNIST_test_small.csv\")"
   ]
  },
  {
   "cell_type": "code",
   "execution_count": 15,
   "metadata": {},
   "outputs": [],
   "source": [
    "def get_features_targets(data):\n",
    "\n",
    "    targets= data.iloc[:, 0]\n",
    "    features= data.iloc[:, 1:]\n",
    "\n",
    "    return features, targets"
   ]
  },
  {
   "cell_type": "code",
   "execution_count": 16,
   "metadata": {},
   "outputs": [],
   "source": [
    "train_small_X, train_small_y = get_features_targets(train_data_small)\n",
    "test_small_X, test_small_y = get_features_targets(test_data_small)"
   ]
  },
  {
   "cell_type": "code",
   "execution_count": 75,
   "metadata": {},
   "outputs": [],
   "source": [
    "class KNN:\n",
    "    def __init__(self, distance, features, labels, k):\n",
    "        self.distance = distance\n",
    "        self.features = features\n",
    "        self.labels = labels\n",
    "        self.k = k\n",
    "\n",
    "    def predict_one(self, x):\n",
    "        distances = self.features.apply(lambda row: self.distance(row-x), axis=1)\n",
    "        distances = distances.sort_values().loc[distances!=0]\n",
    "        k_neighbours = distances[:self.k].index\n",
    "        k_neighbours_labels = self.labels.loc[k_neighbours]\n",
    "        prediction_label = k_neighbours_labels.mode()[0]\n",
    "\n",
    "        return prediction_label\n",
    "    \n",
    "    def predict(self, x):\n",
    "        predictions = x.apply(lambda row: self.predict_one(row), axis=1)\n",
    "\n",
    "        return predictions"
   ]
  },
  {
   "cell_type": "code",
   "execution_count": 76,
   "metadata": {},
   "outputs": [],
   "source": [
    "KNN_1 = KNN(np.linalg.norm, train_small_X, train_small_y, 3)"
   ]
  },
  {
   "cell_type": "code",
   "execution_count": 77,
   "metadata": {},
   "outputs": [],
   "source": [
    "train_small_now = train_small_X[:10]"
   ]
  },
  {
   "cell_type": "code",
   "execution_count": 78,
   "metadata": {},
   "outputs": [],
   "source": [
    "predictions = KNN_1.predict(train_small_now)"
   ]
  },
  {
   "cell_type": "code",
   "execution_count": 79,
   "metadata": {},
   "outputs": [
    {
     "name": "stdout",
     "output_type": "stream",
     "text": [
      "0    3\n",
      "1    4\n",
      "2    3\n",
      "3    1\n",
      "4    3\n",
      "5    6\n",
      "6    8\n",
      "7    4\n",
      "8    0\n",
      "9    1\n",
      "dtype: int64\n"
     ]
    }
   ],
   "source": [
    "print(predictions)"
   ]
  },
  {
   "cell_type": "code",
   "execution_count": null,
   "metadata": {},
   "outputs": [],
   "source": []
  }
 ],
 "metadata": {
  "kernelspec": {
   "display_name": "SLT",
   "language": "python",
   "name": "python3"
  },
  "language_info": {
   "codemirror_mode": {
    "name": "ipython",
    "version": 3
   },
   "file_extension": ".py",
   "mimetype": "text/x-python",
   "name": "python",
   "nbconvert_exporter": "python",
   "pygments_lexer": "ipython3",
   "version": "3.12.9"
  }
 },
 "nbformat": 4,
 "nbformat_minor": 2
}
